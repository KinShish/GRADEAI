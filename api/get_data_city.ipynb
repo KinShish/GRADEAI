{
 "cells": [
  {
   "cell_type": "markdown",
   "id": "25b60794-0c32-41f8-916c-5136c6b56f61",
   "metadata": {},
   "source": [
    "## Установка зависимостей"
   ]
  },
  {
   "cell_type": "code",
   "execution_count": 2,
   "id": "4abd0959-c9d7-430a-b73b-323bb7625c58",
   "metadata": {},
   "outputs": [
    {
     "name": "stdout",
     "output_type": "stream",
     "text": [
      "Requirement already satisfied: osmnx in c:\\users\\kinshish\\pycharmprojects\\gradeai\\venv\\inter\\lib\\site-packages (1.7.0)\n",
      "Requirement already satisfied: numpy>=1.20 in c:\\users\\kinshish\\pycharmprojects\\gradeai\\venv\\inter\\lib\\site-packages (from osmnx) (1.26.0)\n",
      "Requirement already satisfied: pandas>=1.1 in c:\\users\\kinshish\\pycharmprojects\\gradeai\\venv\\inter\\lib\\site-packages (from osmnx) (2.1.1)\n",
      "Requirement already satisfied: networkx>=2.5 in c:\\users\\kinshish\\pycharmprojects\\gradeai\\venv\\inter\\lib\\site-packages (from osmnx) (3.1)\n",
      "Requirement already satisfied: shapely>=2.0 in c:\\users\\kinshish\\pycharmprojects\\gradeai\\venv\\inter\\lib\\site-packages (from osmnx) (2.0.2)\n",
      "Requirement already satisfied: geopandas>=0.12 in c:\\users\\kinshish\\pycharmprojects\\gradeai\\venv\\inter\\lib\\site-packages (from osmnx) (0.14.0)\n",
      "Requirement already satisfied: requests>=2.27 in c:\\users\\kinshish\\pycharmprojects\\gradeai\\venv\\inter\\lib\\site-packages (from osmnx) (2.31.0)\n",
      "Requirement already satisfied: pyproj>=3.3.0 in c:\\users\\kinshish\\pycharmprojects\\gradeai\\venv\\inter\\lib\\site-packages (from geopandas>=0.12->osmnx) (3.6.1)\n",
      "Requirement already satisfied: fiona>=1.8.21 in c:\\users\\kinshish\\pycharmprojects\\gradeai\\venv\\inter\\lib\\site-packages (from geopandas>=0.12->osmnx) (1.9.5)\n",
      "Requirement already satisfied: packaging in c:\\users\\kinshish\\pycharmprojects\\gradeai\\venv\\inter\\lib\\site-packages (from geopandas>=0.12->osmnx) (23.2)\n",
      "Requirement already satisfied: tzdata>=2022.1 in c:\\users\\kinshish\\pycharmprojects\\gradeai\\venv\\inter\\lib\\site-packages (from pandas>=1.1->osmnx) (2023.3)\n",
      "Requirement already satisfied: python-dateutil>=2.8.2 in c:\\users\\kinshish\\pycharmprojects\\gradeai\\venv\\inter\\lib\\site-packages (from pandas>=1.1->osmnx) (2.8.2)\n",
      "Requirement already satisfied: pytz>=2020.1 in c:\\users\\kinshish\\pycharmprojects\\gradeai\\venv\\inter\\lib\\site-packages (from pandas>=1.1->osmnx) (2023.3.post1)\n",
      "Requirement already satisfied: urllib3<3,>=1.21.1 in c:\\users\\kinshish\\pycharmprojects\\gradeai\\venv\\inter\\lib\\site-packages (from requests>=2.27->osmnx) (2.0.6)\n",
      "Requirement already satisfied: charset-normalizer<4,>=2 in c:\\users\\kinshish\\pycharmprojects\\gradeai\\venv\\inter\\lib\\site-packages (from requests>=2.27->osmnx) (3.3.0)\n",
      "Requirement already satisfied: certifi>=2017.4.17 in c:\\users\\kinshish\\pycharmprojects\\gradeai\\venv\\inter\\lib\\site-packages (from requests>=2.27->osmnx) (2023.7.22)\n",
      "Requirement already satisfied: idna<4,>=2.5 in c:\\users\\kinshish\\pycharmprojects\\gradeai\\venv\\inter\\lib\\site-packages (from requests>=2.27->osmnx) (3.4)\n",
      "Requirement already satisfied: click~=8.0 in c:\\users\\kinshish\\pycharmprojects\\gradeai\\venv\\inter\\lib\\site-packages (from fiona>=1.8.21->geopandas>=0.12->osmnx) (8.1.7)\n",
      "Requirement already satisfied: click-plugins>=1.0 in c:\\users\\kinshish\\pycharmprojects\\gradeai\\venv\\inter\\lib\\site-packages (from fiona>=1.8.21->geopandas>=0.12->osmnx) (1.1.1)\n",
      "Requirement already satisfied: setuptools in c:\\users\\kinshish\\pycharmprojects\\gradeai\\venv\\inter\\lib\\site-packages (from fiona>=1.8.21->geopandas>=0.12->osmnx) (65.5.1)\n",
      "Requirement already satisfied: six in c:\\users\\kinshish\\pycharmprojects\\gradeai\\venv\\inter\\lib\\site-packages (from fiona>=1.8.21->geopandas>=0.12->osmnx) (1.16.0)\n",
      "Requirement already satisfied: attrs>=19.2.0 in c:\\users\\kinshish\\pycharmprojects\\gradeai\\venv\\inter\\lib\\site-packages (from fiona>=1.8.21->geopandas>=0.12->osmnx) (23.1.0)\n",
      "Requirement already satisfied: importlib-metadata in c:\\users\\kinshish\\pycharmprojects\\gradeai\\venv\\inter\\lib\\site-packages (from fiona>=1.8.21->geopandas>=0.12->osmnx) (6.8.0)\n",
      "Requirement already satisfied: cligj>=0.5 in c:\\users\\kinshish\\pycharmprojects\\gradeai\\venv\\inter\\lib\\site-packages (from fiona>=1.8.21->geopandas>=0.12->osmnx) (0.7.2)\n",
      "Requirement already satisfied: colorama in c:\\users\\kinshish\\pycharmprojects\\gradeai\\venv\\inter\\lib\\site-packages (from click~=8.0->fiona>=1.8.21->geopandas>=0.12->osmnx) (0.4.6)\n",
      "Requirement already satisfied: zipp>=0.5 in c:\\users\\kinshish\\pycharmprojects\\gradeai\\venv\\inter\\lib\\site-packages (from importlib-metadata->fiona>=1.8.21->geopandas>=0.12->osmnx) (3.17.0)\n"
     ]
    },
    {
     "name": "stderr",
     "output_type": "stream",
     "text": [
      "\n",
      "[notice] A new release of pip available: 22.3.1 -> 23.2.1\n",
      "[notice] To update, run: python.exe -m pip install --upgrade pip\n"
     ]
    }
   ],
   "source": [
    "!pip install osmnx "
   ]
  },
  {
   "cell_type": "markdown",
   "id": "6de160c9-2b80-4fa7-b092-7142263c5fcb",
   "metadata": {},
   "source": [
    "## Подключение бибилиотек"
   ]
  },
  {
   "cell_type": "code",
   "execution_count": 18,
   "id": "7d1f362e-13a8-4187-93ce-f82c6ee4c61e",
   "metadata": {},
   "outputs": [
    {
     "name": "stderr",
     "output_type": "stream",
     "text": [
      "C:\\Users\\KinShish\\AppData\\Local\\Temp\\ipykernel_18360\\1411351727.py:4: UserWarning: The `utils.config` function is deprecated and will be removed in a future release. Instead, use the `settings` module directly to configure a global setting's value. For example, `ox.settings.log_console=True`.\n",
      "  ox.config(log_console=True, use_cache=True)\n"
     ]
    }
   ],
   "source": [
    "import osmnx as ox\n",
    "import networkx as nx\n",
    "import geopandas\n",
    "ox.config(log_console=True, use_cache=True)"
   ]
  },
  {
   "cell_type": "markdown",
   "id": "2c8ccdd2-7ac3-47d1-8a6f-8ac50f06845a",
   "metadata": {},
   "source": [
    "Ищем нужный нам город, на OpenStreetMap"
   ]
  },
  {
   "cell_type": "code",
   "execution_count": 32,
   "id": "8421f513-b4f1-4aa3-b8b6-605a4c3ee1a1",
   "metadata": {},
   "outputs": [
    {
     "data": {
      "text/html": [
       "<div>\n",
       "<style scoped>\n",
       "    .dataframe tbody tr th:only-of-type {\n",
       "        vertical-align: middle;\n",
       "    }\n",
       "\n",
       "    .dataframe tbody tr th {\n",
       "        vertical-align: top;\n",
       "    }\n",
       "\n",
       "    .dataframe thead th {\n",
       "        text-align: right;\n",
       "    }\n",
       "</style>\n",
       "<table border=\"1\" class=\"dataframe\">\n",
       "  <thead>\n",
       "    <tr style=\"text-align: right;\">\n",
       "      <th></th>\n",
       "      <th>geometry</th>\n",
       "      <th>bbox_north</th>\n",
       "      <th>bbox_south</th>\n",
       "      <th>bbox_east</th>\n",
       "      <th>bbox_west</th>\n",
       "      <th>place_id</th>\n",
       "      <th>osm_type</th>\n",
       "      <th>osm_id</th>\n",
       "      <th>lat</th>\n",
       "      <th>lon</th>\n",
       "      <th>class</th>\n",
       "      <th>type</th>\n",
       "      <th>place_rank</th>\n",
       "      <th>importance</th>\n",
       "      <th>addresstype</th>\n",
       "      <th>name</th>\n",
       "      <th>display_name</th>\n",
       "    </tr>\n",
       "  </thead>\n",
       "  <tbody>\n",
       "    <tr>\n",
       "      <th>0</th>\n",
       "      <td>POINT (35.92083 56.85867)</td>\n",
       "      <td>57.018675</td>\n",
       "      <td>56.698675</td>\n",
       "      <td>36.080828</td>\n",
       "      <td>35.760828</td>\n",
       "      <td>207473712</td>\n",
       "      <td>node</td>\n",
       "      <td>27000366</td>\n",
       "      <td>56.858675</td>\n",
       "      <td>35.920828</td>\n",
       "      <td>place</td>\n",
       "      <td>city</td>\n",
       "      <td>16</td>\n",
       "      <td>0.35</td>\n",
       "      <td>city</td>\n",
       "      <td>Tver</td>\n",
       "      <td>Tver, Tver Oblast, Central Federal District, R...</td>\n",
       "    </tr>\n",
       "  </tbody>\n",
       "</table>\n",
       "</div>"
      ],
      "text/plain": [
       "                    geometry  bbox_north  bbox_south  bbox_east  bbox_west  \\\n",
       "0  POINT (35.92083 56.85867)   57.018675   56.698675  36.080828  35.760828   \n",
       "\n",
       "    place_id osm_type    osm_id        lat        lon  class  type  \\\n",
       "0  207473712     node  27000366  56.858675  35.920828  place  city   \n",
       "\n",
       "   place_rank  importance addresstype  name  \\\n",
       "0          16        0.35        city  Tver   \n",
       "\n",
       "                                        display_name  \n",
       "0  Tver, Tver Oblast, Central Federal District, R...  "
      ]
     },
     "metadata": {},
     "output_type": "display_data"
    }
   ],
   "source": [
    "place = \"Тверь\".lower()#Стиль написания города может быть разный, поэтому приводим к нижнему регистру\n",
    "gdf_country = ox.features_from_address(place,{\"place\":[\"city\",\"town\"]})\n",
    "\n",
    "# Иногда город находит не правильно, проэтому его прихзодится выбирать из списка городов(похожих)\n",
    "def find_city(gdf):\n",
    "    index_city = gdf.index\n",
    "    for idx,city in enumerate(gdf[\"name:ru\"]):\n",
    "        if place == city.lower():\n",
    "            return ox.geocode_to_gdf(index_city[idx][0][0]+str(index_city[idx][1]), by_osmid=True)\n",
    "\n",
    "\n",
    "gdf_city=find_city(gdf_country)\n",
    "display(find_city(gdf_country))"
   ]
  },
  {
   "cell_type": "markdown",
   "id": "5f98237a-e104-458d-85a0-2926913d3625",
   "metadata": {},
   "source": [
    "Проверяем есть ли административные округа.\n",
    "- если есть, берем их\n",
    "- если нет, берем город"
   ]
  },
  {
   "cell_type": "code",
   "execution_count": 33,
   "id": "f95c0db9-ffa1-4a70-bf02-df108ffbb1e1",
   "metadata": {},
   "outputs": [
    {
     "data": {
      "image/png": "[encoded data removed]",
      "text/plain": [
       "<Figure size 1000x1000 with 1 Axes>"
      ]
     },
     "metadata": {},
     "output_type": "display_data"
    },
    {
     "name": "stdout",
     "output_type": "stream",
     "text": [
      "Tver, Tver Oblast, Central Federal District, Russia\n"
     ]
    }
   ],
   "source": [
    "tags_city = {'admin_level': ['9']}\n",
    "try:#Ищем округа, через зону заданную bbox, потому что иногда OpenStreetMap ищет не там где надо\n",
    "    gdf_city_region = ox.features_from_bbox(gdf_city[\"bbox_north\"][0],gdf_city[\"bbox_south\"][0],gdf_city[\"bbox_east\"][0],gdf_city[\"bbox_west\"][0], tags_city)\n",
    "except:\n",
    "    gdf_city_region = ox.features_from_bbox(gdf_city[\"bbox_north\"][0],gdf_city[\"bbox_south\"][0],gdf_city[\"bbox_east\"][0],gdf_city[\"bbox_west\"][0], {\"place\":[\"city\",\"town\"]})\n",
    "\n",
    "        \n",
    "\n",
    "fig, ax = ox.plot_footprints(gdf_city_region, figsize=(10, 10))\n",
    "index_city_region = gdf_city_region.index\n",
    "print(gdf_city[\"display_name\"][0])"
   ]
  },
  {
   "cell_type": "markdown",
   "id": "a00348ee-8506-41df-a3d1-621c5eee2542",
   "metadata": {},
   "source": [
    "Разюиваем на зоны(регионы) "
   ]
  },
  {
   "cell_type": "code",
   "execution_count": 34,
   "id": "9255478b-107e-44a1-a2f5-ee724f803495",
   "metadata": {},
   "outputs": [],
   "source": [
    "areas=[]\n",
    "for i in index_city_region:\n",
    "    if i[0] == \"relation\":\n",
    "        gdf_area = ox.geocode_to_gdf(\"R\"+str(i[1]), by_osmid=True)\n",
    "        areas.append(gdf_area)"
   ]
  },
  {
   "cell_type": "markdown",
   "id": "98a68a5a-10eb-4aca-807f-b25260563c44",
   "metadata": {},
   "source": [
    "Функция определения расстояния между объектами, если расстояние <100 запоминаем объект"
   ]
  },
  {
   "cell_type": "code",
   "execution_count": 22,
   "id": "2bf25f93-32df-4b29-a394-a95c0c5b8658",
   "metadata": {},
   "outputs": [],
   "source": [
    "def find_violations(gdf_bad,gdf_educational):\n",
    "    violations=[]\n",
    "    gdf_bad = ox.project_gdf(gdf_bad, to_crs =3857)\n",
    "    gdf_educational = ox.project_gdf(gdf_educational, to_crs =3857)\n",
    "    for index, p in gdf_educational.iterrows():\n",
    "        distance=p[\"geometry\"].distance(gdf_bad[\"geometry\"])\n",
    "        index_distance = distance.index\n",
    "        for idx,dist in enumerate(distance):\n",
    "            if dist <= 100:\n",
    "                violations.append({\"name\":p[\"name\"],\"street\": p[\"addr:street\"],\"bad\":get_name(index_distance[idx])})\n",
    "    return violations    "
   ]
  },
  {
   "cell_type": "markdown",
   "id": "c33fa4ba-da3f-46c1-8396-b1b7a2ea784a",
   "metadata": {},
   "source": [
    "Функция определения средней удаленности отрицательных точек в городе от парковв"
   ]
  },
  {
   "cell_type": "code",
   "execution_count": 23,
   "id": "f0c690ea-e631-47f8-a476-b25584a3b865",
   "metadata": {},
   "outputs": [],
   "source": [
    "def find_average_distance(gdf_bad,gdf_park):\n",
    "    distance_array=[]\n",
    "    gdf_bad = ox.project_gdf(gdf_bad, to_crs =3857)\n",
    "    gdf_park = ox.project_gdf(gdf_park, to_crs =3857)\n",
    "    for p in gdf_park[\"geometry\"]:\n",
    "        distance=p.distance(gdf_bad[\"geometry\"])\n",
    "        index_distance = distance.index\n",
    "        min=10000000\n",
    "        for idx,dist in enumerate(distance):#ищю ближайшую точку до парка\n",
    "            if min>dist:\n",
    "                min=dist\n",
    "        distance_array.append([index_distance[idx],min])# запоминаю только ближайщую точнку\n",
    "    average_distance=0\n",
    "    count=0\n",
    "    for p in distance_array:# вычисляю среднее растояние в регионе\n",
    "        count+=1\n",
    "        average_distance+=p[1]  \n",
    "    return average_distance/count  "
   ]
  },
  {
   "cell_type": "markdown",
   "id": "c1f2e86a-9308-4ee5-9d69-ee941de8c4bd",
   "metadata": {},
   "source": [
    "Функция вычисления растояния до ближайшей остановки"
   ]
  },
  {
   "cell_type": "code",
   "execution_count": 24,
   "id": "aa6b6006-b99a-4fd3-8fcc-f5ea270c21ac",
   "metadata": {},
   "outputs": [],
   "source": [
    "def find_transport_distance(gdf_transport,gdf_park):\n",
    "    distance_array=[]\n",
    "    gdf_transport = ox.project_gdf(gdf_transport, to_crs =3857)\n",
    "    gdf_park = ox.project_gdf(gdf_park, to_crs =3857)\n",
    "    for index,p in gdf_park.iterrows():\n",
    "        distance=p[\"geometry\"].distance(gdf_transport[\"geometry\"])\n",
    "        index_distance = distance.index\n",
    "        min=10000000\n",
    "        for idx,dist in enumerate(distance):\n",
    "            if min>dist:\n",
    "                min=dist\n",
    "        if min>200:\n",
    "            distance_array.append({\"name\":p[\"name\"],\"street\": p[\"addr:street\"]})\n",
    "    return distance_array           "
   ]
  },
  {
   "cell_type": "markdown",
   "id": "31c969ca-1f85-4521-9800-e525cf3fcfcf",
   "metadata": {},
   "source": [
    "Получить название объекта по его osmid"
   ]
  },
  {
   "cell_type": "code",
   "execution_count": 25,
   "id": "e06729dc-51a8-4367-819a-aeb67ece5ce0",
   "metadata": {},
   "outputs": [],
   "source": [
    "def get_name(name):\n",
    "    gdf_area_local = ox.geocode_to_gdf(name[0][0]+str(name[1]), by_osmid=True)\n",
    "    return gdf_area_local[\"display_name\"][0]"
   ]
  },
  {
   "cell_type": "markdown",
   "id": "e47e3222-06f1-40e1-91a0-a568cc75bcfd",
   "metadata": {},
   "source": [
    "Создаем зависимости, которые позволят, подгружать необходимые объекты для анализа"
   ]
  },
  {
   "cell_type": "code",
   "execution_count": 26,
   "id": "fd4faf6e-26b7-4165-ba2e-eb24ff4a8e18",
   "metadata": {},
   "outputs": [],
   "source": [
    "tags_good = {\n",
    "    'amenity': \"marketplace\",\n",
    "    \"building\": \"riding_hall\",\n",
    "    \"highway\":\"cycleway\",\n",
    "    \"leisure\":[\"swimming_pool\",\"stadium\",\"fitness_centre\",\"sports_hall\",\"sports_centre\",\"pitch\",\"park\",\"playground\",\"picnic_table\",\n",
    "               \"nature_reserve\",\"track\",\"fitness_centre\",\"fitness_station\",\"stadium\",\"outdoor_seating\",\"golf_course\",\"garden\",\"common\",\n",
    "               \"sports_hall\",\"dog_park\",\"resort\",\"horse_riding\",\"fishing\",\"water_park\",\"beach_resort\",\"miniature_golf\",\"ice_rink\",\n",
    "               \"bird_hide\",\"swimming_area\",\"bandstand\",\"schoolyard\",\"disc_golf_course\",\"hackerspace\",\"summer_camp\",\"indoor_play\",\"trampoline_park\",\n",
    "               \"bathing_place\",\"wildlife_hide\",\"barefoot\",\"paddling_pool\",\"village_swing\",\"sunbathing\",\"foot_bath\",\"soccer_golf\",\"wellness\"],\n",
    "    \"shop\":[\"greengrocer\",\"agrarian\",\"farm\"]}\n",
    "tags_bad = {\n",
    "        'amenity': [\"bar\", \"fast_food\", \"biergarten\", \"pub\"],\n",
    "        \"shop\": [\"cigarettes\", \"e-cigarette\", \"vape\", \"vape_shop\", \"tobacco\", \"wine\",\"brewing_supplies\",\n",
    "                 \"beverages\", \"alcohol\", \"beer\", \"beverages\", \"pizza\", \"fast_food\",\"kiosk\",\"convenience\"],\n",
    "        \"cuisine\": [\"pizza\", \"burger\", \"shawarma\"]}\n",
    "tags_park = {\"leisure\":[\"park\",\"wildlife_hide\",\"dog_park\"]}\n",
    "tags_cigarettes = {\"shop\":[\"cigarettes\",\"e-cigarette\",\"vape\",\"vape_shop\",\"tobacco\",\"kiosk\",\"convenience\"]}\n",
    "tags_alcohol = {'amenity': [\"bar\",\"biergarten\",\"pub\"], \"shop\":[\"wine\",\"beverages\",\"alcohol\",\"beer\",\"brewing_supplies\",\"kiosk\",\"convenience\"]}\n",
    "tags_educational = {'amenity': [\"school\",\"kindergarten\",\"university\",\"college\",\"music_school\",\"language_school\",\"dancing_school\",\"trade_school\"]}\n",
    "tags_transport = {'highway': \"bus_stop\", \"public_transport\": [\"platform\", \"stop_position\"]}"
   ]
  },
  {
   "cell_type": "code",
   "execution_count": 28,
   "id": "0196d09b-a9ff-466a-8f2d-205719d0cb41",
   "metadata": {},
   "outputs": [
    {
     "data": {
      "text/plain": [
       "{'Зареченский территориальный округ, городской округ Тула, Tula Oblast, Central Federal District, Russia': {'good': 141,\n",
       "  'park': 8,\n",
       "  'cigarettes': 64,\n",
       "  'alcohol': 70,\n",
       "  'educational': 45,\n",
       "  'bad': 85,\n",
       "  'positive': -14.5,\n",
       "  'violations': {'len': 2,\n",
       "   'data': [{'name': 'Хрущёвская средняя общеобразовательная школа им. А.И. Миронова',\n",
       "     'street': 'Центральная улица',\n",
       "     'bad': '140, Центральная улица, Хрущёво, Зареченский территориальный округ, городской округ Тула, Tula Oblast, Central Federal District, 301115, Russia'},\n",
       "    {'name': 'Школа-сад №1',\n",
       "     'street': nan,\n",
       "     'bad': 'Ствольная улица, Малые Гончары, Зареченский территориальный округ, Tula, городской округ Тула, Tula Oblast, Central Federal District, 300044, Russia'}]},\n",
       "  'average_distance': 1319.6534660709337,\n",
       "  'rating': 0,\n",
       "  'city': {'rating': 30,\n",
       "   'average_distance': 1043.213767586743,\n",
       "   'positive': -3}},\n",
       " 'Привокзальный территориальный округ, городской округ Тула, Tula Oblast, Central Federal District, Russia': {'good': 128,\n",
       "  'park': 15,\n",
       "  'cigarettes': 47,\n",
       "  'alcohol': 65,\n",
       "  'educational': 35,\n",
       "  'bad': 75,\n",
       "  'positive': -11.0,\n",
       "  'violations': {'len': 2,\n",
       "   'data': [{'name': 'Средняя общеобразовательная школа №7',\n",
       "     'street': nan,\n",
       "     'bad': 'улица Прокудина, Серебровский, Привокзальный территориальный округ, Tula, городской округ Тула, Tula Oblast, Central Federal District, 300028, Russia'},\n",
       "    {'name': 'Средняя общеобразовательная школа №7',\n",
       "     'street': nan,\n",
       "     'bad': '33, Оружейная улица, Серебровский, Привокзальный территориальный округ, Tula, городской округ Тула, Tula Oblast, Central Federal District, 300028, Russia'}]},\n",
       "  'average_distance': 594.5014280261365,\n",
       "  'rating': 0,\n",
       "  'city': {'rating': 30,\n",
       "   'average_distance': 1043.213767586743,\n",
       "   'positive': -3}},\n",
       " 'Пролетарский территориальный округ, городской округ Тула, Tula Oblast, Central Federal District, Russia': {'good': 252,\n",
       "  'park': 21,\n",
       "  'cigarettes': 61,\n",
       "  'alcohol': 91,\n",
       "  'educational': 56,\n",
       "  'bad': 108,\n",
       "  'positive': 18.0,\n",
       "  'violations': {'len': 12,\n",
       "   'data': [{'name': 'Компьютерная академия ШАГ',\n",
       "     'street': nan,\n",
       "     'bad': 'Автосуши Автопицца, 54, Епифанская улица, Заречье, Пролетарский территориальный округ, Tula, городской округ Тула, Tula Oblast, Central Federal District, 300001, Russia'},\n",
       "    {'name': 'МБОУ \"Центр образования №18\" (дошкольное отделение)',\n",
       "     'street': 'улица Волкова',\n",
       "     'bad': 'Продукты, 114А, улица Кутузова, Криволучье, Пролетарский территориальный округ, Tula, городской округ Тула, Tula Oblast, Central Federal District, 300027, Russia'},\n",
       "    {'name': 'МБОУ \"Центр образования № 29\" (дошкольное отделение)',\n",
       "     'street': nan,\n",
       "     'bad': 'Pranzo, 11/8, улица Металлургов, Криволучье, Пролетарский территориальный округ, Tula, городской округ Тула, Tula Oblast, Central Federal District, 300016, Russia'},\n",
       "    {'name': 'МБОУ \"Центр образования № 29\" (дошкольное отделение)',\n",
       "     'street': nan,\n",
       "     'bad': 'Продукты, 11/8, улица Металлургов, Криволучье, Пролетарский территориальный округ, Tula, городской округ Тула, Tula Oblast, Central Federal District, 300016, Russia'},\n",
       "    {'name': 'МБОУ \"Центр образования № 29\" (дошкольное отделение)',\n",
       "     'street': nan,\n",
       "     'bad': 'Продукты, 11/8, улица Металлургов, Криволучье, Пролетарский территориальный округ, Tula, городской округ Тула, Tula Oblast, Central Federal District, 300016, Russia'},\n",
       "    {'name': 'МБОУ \"Центр образования № 29\" (дошкольное отделение)',\n",
       "     'street': nan,\n",
       "     'bad': 'Продукты, 11/8, улица Металлургов, Криволучье, Пролетарский территориальный округ, Tula, городской округ Тула, Tula Oblast, Central Federal District, 300016, Russia'},\n",
       "    {'name': 'Центр образования – гимназия №1 (дошкольное отделение)',\n",
       "     'street': nan,\n",
       "     'bad': 'улица Металлургов, Криволучье, Пролетарский территориальный округ, Tula, городской округ Тула, Tula Oblast, Central Federal District, 300027, Russia'},\n",
       "    {'name': '22 лицей исскуств',\n",
       "     'street': 'Ложевая улица',\n",
       "     'bad': 'Плехановский рынок, 96, улица Плеханова, Пролетарский территориальный округ, Tula, городской округ Тула, Tula Oblast, Central Federal District, 300001, Russia'},\n",
       "    {'name': '22 лицей исскуств',\n",
       "     'street': 'Ложевая улица',\n",
       "     'bad': 'Плехановский рынок, улица Плеханова, Пролетарский территориальный округ, Tula, городской округ Тула, Tula Oblast, Central Federal District, 300001, Russia'},\n",
       "    {'name': nan,\n",
       "     'street': nan,\n",
       "     'bad': 'Драфт, 13, улица Хворостухина, Глушанки, Пролетарский территориальный округ, Tula, городской округ Тула, Tula Oblast, Central Federal District, 300010, Russia'},\n",
       "    {'name': 'Школа № 21',\n",
       "     'street': nan,\n",
       "     'bad': 'СырОк, Замочная улица, Пролетарский территориальный округ, Tula, городской округ Тула, Tula Oblast, Central Federal District, 300001, Russia'},\n",
       "    {'name': nan,\n",
       "     'street': nan,\n",
       "     'bad': 'улица Чапаева, Заречье, Пролетарский территориальный округ, Tula, городской округ Тула, Tula Oblast, Central Federal District, 300001, Russia'}]},\n",
       "  'average_distance': 2686.7957228341475,\n",
       "  'rating': 60,\n",
       "  'city': {'rating': 30,\n",
       "   'average_distance': 1043.213767586743,\n",
       "   'positive': -3}},\n",
       " 'Белоусовский парк, городской округ Тула, Tula Oblast, Central Federal District, Russia': {'good': 91,\n",
       "  'park': 7,\n",
       "  'cigarettes': 21,\n",
       "  'alcohol': 38,\n",
       "  'educational': 35,\n",
       "  'bad': 53,\n",
       "  'positive': -7.5,\n",
       "  'violations': {'len': 6,\n",
       "   'data': [{'name': 'English Jet',\n",
       "     'street': 'улица Демонстрации',\n",
       "     'bad': '3 сестры, 12/14/16, Советская улица, Белоусовский парк, Tula, городской округ Тула, Tula Oblast, Central Federal District, 300041, Russia'},\n",
       "    {'name': 'English Jet',\n",
       "     'street': 'улица Демонстрации',\n",
       "     'bad': 'Мама Миа, улица Демонстрации, Белоусовский парк, Tula, городской округ Тула, Tula Oblast, Central Federal District, 300041, Russia'},\n",
       "    {'name': 'English Jet',\n",
       "     'street': 'улица Демонстрации',\n",
       "     'bad': 'Чебуречная, 12/14/16, Советская улица, Белоусовский парк, Tula, городской округ Тула, Tula Oblast, Central Federal District, 300041, Russia'},\n",
       "    {'name': 'Центр образования №1 корпус \"Солнышко\"',\n",
       "     'street': nan,\n",
       "     'bad': 'Продукты, улица Клары Цеткин, Белоусовский парк, Tula, городской округ Тула, Tula Oblast, Central Federal District, 300041, Russia'},\n",
       "    {'name': 'ЦО No. 23 имени Героя Российской Федерации Майкла Джексона',\n",
       "     'street': nan,\n",
       "     'bad': 'Корина, улица Коминтерна, Белоусовский парк, Tula, городской округ Тула, Tula Oblast, Central Federal District, 300041, Russia'},\n",
       "    {'name': 'Тульский государственный университет',\n",
       "     'street': nan,\n",
       "     'bad': 'Пятый океан, 149, улица Болдина, Белоусовский парк, Tula, городской округ Тула, Tula Oblast, Central Federal District, 300012, Russia'}]},\n",
       "  'average_distance': 66.42008927300827,\n",
       "  'rating': 0,\n",
       "  'city': {'rating': 30,\n",
       "   'average_distance': 1043.213767586743,\n",
       "   'positive': -3}},\n",
       " 'Центральный территориальный округ, городской округ Тула, Tula Oblast, Central Federal District, Russia': {'good': 158,\n",
       "  'park': 18,\n",
       "  'cigarettes': 53,\n",
       "  'alcohol': 93,\n",
       "  'educational': 48,\n",
       "  'bad': 132,\n",
       "  'positive': -53.0,\n",
       "  'violations': {'len': 16,\n",
       "   'data': [{'name': 'Компьютерная академия ШАГ',\n",
       "     'street': 'Советская улица',\n",
       "     'bad': 'Red&White, 17, Советская улица, Центральный территориальный округ, Tula, городской округ Тула, Tula Oblast, Central Federal District, 300041, Russia'},\n",
       "    {'name': 'РАНХиГС',\n",
       "     'street': 'проспект Ленина',\n",
       "     'bad': '28, проспект Ленина, Центральный территориальный округ, Tula, городской округ Тула, Tula Oblast, Central Federal District, 300000, Russia'},\n",
       "    {'name': 'РАНХиГС',\n",
       "     'street': 'проспект Ленина',\n",
       "     'bad': 'Щи Борщи, 28, проспект Ленина, Центральный территориальный округ, Tula, городской округ Тула, Tula Oblast, Central Federal District, 300000, Russia'},\n",
       "    {'name': 'Детский Сад №173',\n",
       "     'street': nan,\n",
       "     'bad': 'улица Кауля, Красный Перекоп, Центральный территориальный округ, Tula, городской округ Тула, Tula Oblast, Central Federal District, 300007, Russia'},\n",
       "    {'name': 'Профессиональный Лицей № 4',\n",
       "     'street': 'улица Металлистов',\n",
       "     'bad': 'Тульский пряник, Казанская набережная, Заречье, Центральный территориальный округ, Tula, городской округ Тула, Tula Oblast, Central Federal District, 300000, Russia'},\n",
       "    {'name': 'Профессиональный Лицей № 4',\n",
       "     'street': 'улица Металлистов',\n",
       "     'bad': 'Лепим-варим, Казанская набережная, Заречье, Центральный территориальный округ, Tula, городской округ Тула, Tula Oblast, Central Federal District, 300000, Russia'},\n",
       "    {'name': 'Профессиональный Лицей № 4',\n",
       "     'street': 'улица Металлистов',\n",
       "     'bad': 'Ананасовый Экспресс, Казанская набережная, Заречье, Центральный территориальный округ, Tula, городской округ Тула, Tula Oblast, Central Federal District, 300000, Russia'},\n",
       "    {'name': 'Детский сад № 79',\n",
       "     'street': 'улица Шевченко',\n",
       "     'bad': 'Red&White, 27, улица Николая Руднева, Зеленстрой, Центральный территориальный округ, Tula, городской округ Тула, Tula Oblast, Central Federal District, 300012, Russia'},\n",
       "    {'name': nan,\n",
       "     'street': nan,\n",
       "     'bad': 'Red&White, 27, улица Николая Руднева, Зеленстрой, Центральный территориальный округ, Tula, городской округ Тула, Tula Oblast, Central Federal District, 300012, Russia'},\n",
       "    {'name': 'Центр образования №39',\n",
       "     'street': nan,\n",
       "     'bad': 'Кристалл, 101 к1, улица Тимирязева, Красный Перекоп, Центральный территориальный округ, Tula, городской округ Тула, Tula Oblast, Central Federal District, 300012, Russia'},\n",
       "    {'name': 'Центр образования №39',\n",
       "     'street': nan,\n",
       "     'bad': 'Овощи и фрукты, улица Тимирязева, Красный Перекоп, Центральный территориальный округ, Tula, городской округ Тула, Tula Oblast, Central Federal District, 300007, Russia'},\n",
       "    {'name': 'ТГПУ им.Л.Н. Толстого',\n",
       "     'street': nan,\n",
       "     'bad': 'Продукты, 72, улица Николая Руднева, Зеленстрой, Центральный территориальный округ, Tula, городской округ Тула, Tula Oblast, Central Federal District, 300012, Russia'},\n",
       "    {'name': 'ТГПУ им.Л.Н. Толстого',\n",
       "     'street': nan,\n",
       "     'bad': 'Студенческий, 4-й Волоховский проезд, Зеленстрой, Центральный территориальный округ, Tula, городской округ Тула, Tula Oblast, Central Federal District, 300025, Russia'},\n",
       "    {'name': 'МБОУ \"Центр образования №42\"',\n",
       "     'street': 'улица Николая Руднева',\n",
       "     'bad': 'Пивовар, 54, улица Николая Руднева, Зеленстрой, Центральный территориальный округ, Tula, городской округ Тула, Tula Oblast, Central Federal District, 300026, Russia'},\n",
       "    {'name': 'МБОУ \"Центр образования №42\"',\n",
       "     'street': 'улица Николая Руднева',\n",
       "     'bad': 'Белорусские колбасы, 60, улица Николая Руднева, Зеленстрой, Центральный территориальный округ, Tula, городской округ Тула, Tula Oblast, Central Federal District, 300026, Russia'},\n",
       "    {'name': 'МБОУ \"Центр образования №42\"',\n",
       "     'street': 'улица Николая Руднева',\n",
       "     'bad': 'Исток, 30А, улица Мезенцева, Зеленстрой, Центральный территориальный округ, Tula, городской округ Тула, Tula Oblast, Central Federal District, 300012, Russia'}]},\n",
       "  'average_distance': 548.6981317294899,\n",
       "  'rating': 0,\n",
       "  'city': {'rating': 30,\n",
       "   'average_distance': 1043.213767586743,\n",
       "   'positive': -3}}}"
      ]
     },
     "metadata": {},
     "output_type": "display_data"
    }
   ],
   "source": [
    "result=dict();\n",
    "rating_city=0\n",
    "average_distance_city=0\n",
    "positive_city=0\n",
    "for area in areas:# перебираем районы\n",
    "    # Получаем объекты\n",
    "    gdf_good = ox.features_from_polygon(area[\"geometry\"][0], tags_good)\n",
    "    gdf_park = ox.features_from_polygon(area[\"geometry\"][0], tags_park)\n",
    "    gdf_cigarettes = ox.features_from_polygon(area[\"geometry\"][0], tags_cigarettes)\n",
    "    gdf_alcohol = ox.features_from_polygon(area[\"geometry\"][0], tags_alcohol)\n",
    "    gdf_bad = ox.features_from_polygon(area[\"geometry\"][0], tags_bad)\n",
    "    gdf_educational = ox.features_from_polygon(area[\"geometry\"][0], tags_educational)\n",
    "    gdf_transport = ox.features_from_polygon(area[\"geometry\"][0], tags_transport)\n",
    "    \n",
    "    # Вычисление необходимых данных\n",
    "    violations=find_violations(gdf_bad,gdf_educational.copy(deep=True))\n",
    "    average_distance_region=find_average_distance(gdf_bad,gdf_park)\n",
    "    average_distance_city+=average_distance_region\n",
    "    distance_transport_region=find_transport_distance(gdf_transport, gdf_educational.copy(deep=True))\n",
    "\n",
    "    # Формирование данных, для передачи на фронт\n",
    "    result[area[\"display_name\"][0]]=dict();\n",
    "    result[area[\"display_name\"][0]][\"good\"]=len(gdf_good)\n",
    "    result[area[\"display_name\"][0]][\"park\"]=len(gdf_park)\n",
    "    result[area[\"display_name\"][0]][\"cigarettes\"]=len(gdf_cigarettes)\n",
    "    result[area[\"display_name\"][0]][\"alcohol\"]=len(gdf_alcohol)\n",
    "    result[area[\"display_name\"][0]][\"educational\"]=len(gdf_educational)\n",
    "    result[area[\"display_name\"][0]][\"bad\"]=len(gdf_bad)\n",
    "    result[area[\"display_name\"][0]][\"positive\"]=len(gdf_good)*0.5-len(gdf_bad)\n",
    "    result[area[\"display_name\"][0]][\"violations\"]={\"len\":len(violations),\"data\":violations}\n",
    "    \n",
    "    # Список образовательных организаций без доступа к остановке, отключил чтобы не засорять консоль\n",
    "    #result[area[\"display_name\"][0]][\"transport\"]={\"len\":len(distance_transport_region),\"data\":distance_transport_region}\n",
    "\n",
    "    # poligin района тут скрыт чтобы не засорять консоль\n",
    "    #result[area[\"display_name\"][0]][\"geometry\"]=geopandas.GeoSeries(area[\"geometry\"][0]).to_json()\n",
    "    result[area[\"display_name\"][0]][\"average_distance\"]=average_distance_region\n",
    "    result[area[\"display_name\"][0]][\"rating\"]=0\n",
    "    if result[area[\"display_name\"][0]][\"positive\"]>0:\n",
    "        positive_city+=1\n",
    "        result[area[\"display_name\"][0]][\"rating\"]+=60\n",
    "    else:\n",
    "        positive_city-=1\n",
    "    if result[area[\"display_name\"][0]][\"violations\"][\"len\"]==0:\n",
    "        result[area[\"display_name\"][0]][\"rating\"]+=40  \n",
    "# Собираем данные по городу\n",
    "average_distance_city=average_distance_city/len(areas)\n",
    "if average_distance_city>200:\n",
    "    rating_city+=30\n",
    "if positive_city>0:\n",
    "    rating_city+=70\n",
    "for area in areas:\n",
    "    result[area[\"display_name\"][0]][\"city\"]=dict()\n",
    "    result[area[\"display_name\"][0]][\"city\"][\"rating\"]=rating_city\n",
    "    result[area[\"display_name\"][0]][\"city\"][\"average_distance\"]=average_distance_city\n",
    "    result[area[\"display_name\"][0]][\"city\"][\"positive\"]=positive_city\n",
    "display(result)    "
   ]
  },
  {
   "cell_type": "code",
   "execution_count": null,
   "id": "2d7cd1b9-dd22-438f-93ce-77a39451c175",
   "metadata": {},
   "outputs": [],
   "source": []
  }
 ],
 "metadata": {
  "kernelspec": {
   "display_name": "Python 3 (ipykernel)",
   "language": "python",
   "name": "python3"
  },
  "language_info": {
   "codemirror_mode": {
    "name": "ipython",
    "version": 3
   },
   "file_extension": ".py",
   "mimetype": "text/x-python",
   "name": "python",
   "nbconvert_exporter": "python",
   "pygments_lexer": "ipython3",
   "version": "3.9.13"
  }
 },
 "nbformat": 4,
 "nbformat_minor": 5
}
